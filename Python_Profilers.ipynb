{
  "nbformat": 4,
  "nbformat_minor": 0,
  "metadata": {
    "colab": {
      "provenance": []
    },
    "kernelspec": {
      "name": "python3",
      "display_name": "Python 3"
    },
    "language_info": {
      "name": "python"
    },
    "gpuClass": "standard"
  },
  "cells": [
    {
      "cell_type": "markdown",
      "source": [
        "# 1"
      ],
      "metadata": {
        "id": "NUy5f-eUzEKs"
      }
    },
    {
      "cell_type": "code",
      "source": [
        "!pip install pycallgraph"
      ],
      "metadata": {
        "id": "gJ8Tk_yOhg8j"
      },
      "execution_count": null,
      "outputs": []
    },
    {
      "cell_type": "code",
      "source": [
        "import pycallgraph\n",
        "from pycallgraph import PyCallGraph\n",
        "from pycallgraph.output import GraphvizOutput\n",
        "if __name__ == '__main__':\n",
        "    graphviz = GraphvizOutput()\n",
        "    graphviz.output_file = 'fib.png'\n",
        "    with PyCallGraph(output=graphviz):\n",
        "        # put your function call here"
      ],
      "metadata": {
        "id": "wMvIauU_iw3l"
      },
      "execution_count": null,
      "outputs": []
    },
    {
      "cell_type": "markdown",
      "source": [
        "# 2"
      ],
      "metadata": {
        "id": "subPc1GBzEwk"
      }
    },
    {
      "cell_type": "code",
      "source": [
        "!pip install pprofile"
      ],
      "metadata": {
        "id": "Fw2lahtCtu6H"
      },
      "execution_count": null,
      "outputs": []
    },
    {
      "cell_type": "code",
      "source": [
        "import pprofile\n",
        "\n",
        "profiler = pprofile.Profile()\n",
        "\n",
        "with profiler:\n",
        "    # put your function call here\n",
        "\n",
        "profiler.dump_stats(\"pp.txt\")"
      ],
      "metadata": {
        "id": "zkExlRBxtxA4"
      },
      "execution_count": null,
      "outputs": []
    },
    {
      "cell_type": "markdown",
      "source": [
        "# 3"
      ],
      "metadata": {
        "id": "Tl3SRBVmzFaU"
      }
    },
    {
      "cell_type": "code",
      "source": [
        "import profile\n",
        "\n",
        "def run_profile():\n",
        "    profile.run(\"fun(args)\") # put your function call here in string\n",
        "\n",
        "if __name__ == \"__main__\":\n",
        "    run_profile()"
      ],
      "metadata": {
        "id": "R4Me3VXXk0t_"
      },
      "execution_count": null,
      "outputs": []
    },
    {
      "cell_type": "markdown",
      "source": [
        "# 4"
      ],
      "metadata": {
        "id": "Bor-XwjdzJ1j"
      }
    },
    {
      "cell_type": "code",
      "source": [
        "import cProfile, pstats\n",
        "profiler = cProfile.Profile()\n",
        "profiler.enable()\n",
        "# put your function call here\n",
        "profiler.disable()\n",
        "stats = pstats.Stats(profiler).sort_stats('tottime')\n",
        "# stats.strip_dirs()\n",
        "stats.print_stats()"
      ],
      "metadata": {
        "id": "4AeZuCAsX-06"
      },
      "execution_count": null,
      "outputs": []
    },
    {
      "cell_type": "markdown",
      "source": [
        "# we can use <font color='yellow'>SnakeViz</font> and <font color='yellow'>FunctionTrace</font> also but only for <font color='red'>local</font> notebooks and scripts\n",
        "\n",
        "## They won't work in colab"
      ],
      "metadata": {
        "id": "hqM8VUvb1L-e"
      }
    }
  ]
}