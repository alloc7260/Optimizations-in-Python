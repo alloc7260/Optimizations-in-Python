{
  "nbformat": 4,
  "nbformat_minor": 0,
  "metadata": {
    "colab": {
      "provenance": []
    },
    "kernelspec": {
      "name": "python3",
      "display_name": "Python 3"
    },
    "language_info": {
      "name": "python"
    },
    "gpuClass": "standard"
  },
  "cells": [
    {
      "cell_type": "code",
      "source": [
        "!pip install line_profiler[ipython]"
      ],
      "metadata": {
        "colab": {
          "base_uri": "https://localhost:8080/"
        },
        "id": "ucSagxIeFZrB",
        "outputId": "ee364d4c-b504-4fd9-b3b6-3f0671872446"
      },
      "execution_count": 8,
      "outputs": [
        {
          "output_type": "stream",
          "name": "stdout",
          "text": [
            "Collecting line_profiler[ipython]\n",
            "  Downloading line_profiler-4.0.3-cp310-cp310-manylinux_2_17_x86_64.manylinux2014_x86_64.whl (661 kB)\n",
            "\u001b[2K     \u001b[90m━━━━━━━━━━━━━━━━━━━━━━━━━━━━━━━━━━━━━━\u001b[0m \u001b[32m661.9/661.9 kB\u001b[0m \u001b[31m18.0 MB/s\u001b[0m eta \u001b[36m0:00:00\u001b[0m\n",
            "\u001b[?25hRequirement already satisfied: IPython in /usr/local/lib/python3.10/dist-packages (from line_profiler[ipython]) (7.34.0)\n",
            "Requirement already satisfied: setuptools>=18.5 in /usr/local/lib/python3.10/dist-packages (from IPython->line_profiler[ipython]) (67.7.2)\n",
            "Collecting jedi>=0.16 (from IPython->line_profiler[ipython])\n",
            "  Downloading jedi-0.18.2-py2.py3-none-any.whl (1.6 MB)\n",
            "\u001b[2K     \u001b[90m━━━━━━━━━━━━━━━━━━━━━━━━━━━━━━━━━━━━━━━━\u001b[0m \u001b[32m1.6/1.6 MB\u001b[0m \u001b[31m62.4 MB/s\u001b[0m eta \u001b[36m0:00:00\u001b[0m\n",
            "\u001b[?25hRequirement already satisfied: decorator in /usr/local/lib/python3.10/dist-packages (from IPython->line_profiler[ipython]) (4.4.2)\n",
            "Requirement already satisfied: pickleshare in /usr/local/lib/python3.10/dist-packages (from IPython->line_profiler[ipython]) (0.7.5)\n",
            "Requirement already satisfied: traitlets>=4.2 in /usr/local/lib/python3.10/dist-packages (from IPython->line_profiler[ipython]) (5.7.1)\n",
            "Requirement already satisfied: prompt-toolkit!=3.0.0,!=3.0.1,<3.1.0,>=2.0.0 in /usr/local/lib/python3.10/dist-packages (from IPython->line_profiler[ipython]) (3.0.38)\n",
            "Requirement already satisfied: pygments in /usr/local/lib/python3.10/dist-packages (from IPython->line_profiler[ipython]) (2.14.0)\n",
            "Requirement already satisfied: backcall in /usr/local/lib/python3.10/dist-packages (from IPython->line_profiler[ipython]) (0.2.0)\n",
            "Requirement already satisfied: matplotlib-inline in /usr/local/lib/python3.10/dist-packages (from IPython->line_profiler[ipython]) (0.1.6)\n",
            "Requirement already satisfied: pexpect>4.3 in /usr/local/lib/python3.10/dist-packages (from IPython->line_profiler[ipython]) (4.8.0)\n",
            "Requirement already satisfied: parso<0.9.0,>=0.8.0 in /usr/local/lib/python3.10/dist-packages (from jedi>=0.16->IPython->line_profiler[ipython]) (0.8.3)\n",
            "Requirement already satisfied: ptyprocess>=0.5 in /usr/local/lib/python3.10/dist-packages (from pexpect>4.3->IPython->line_profiler[ipython]) (0.7.0)\n",
            "Requirement already satisfied: wcwidth in /usr/local/lib/python3.10/dist-packages (from prompt-toolkit!=3.0.0,!=3.0.1,<3.1.0,>=2.0.0->IPython->line_profiler[ipython]) (0.2.6)\n",
            "Installing collected packages: line_profiler, jedi\n",
            "Successfully installed jedi-0.18.2 line_profiler-4.0.3\n"
          ]
        }
      ]
    },
    {
      "cell_type": "code",
      "source": [
        "%load_ext line_profiler"
      ],
      "metadata": {
        "id": "uYWFbq5LFdQ2"
      },
      "execution_count": 9,
      "outputs": []
    },
    {
      "cell_type": "code",
      "source": [
        "def function_to_profile(args):\n",
        "    some = args\n",
        "    list_of_numbers = [i for i in range(some)]\n",
        "    for i in range(some):\n",
        "        pass\n",
        "    numbers = [i**2 for i in list_of_numbers]\n",
        "    return list_of_numbers\n",
        "\n",
        "def wrapper(arg):\n",
        "    list_of_numbers = [i for i in range(arg)]\n",
        "    lsi = function_to_profile(list_of_numbers[-1])\n",
        "    return lsi"
      ],
      "metadata": {
        "id": "-RtQIf0tE3bY"
      },
      "execution_count": 19,
      "outputs": []
    },
    {
      "cell_type": "code",
      "source": [
        "%lprun -f wrapper  wrapper(900)"
      ],
      "metadata": {
        "id": "8GDOj9_rILIh"
      },
      "execution_count": 27,
      "outputs": []
    },
    {
      "cell_type": "markdown",
      "source": [
        "Timer unit: 1e-09 s\n",
        "\n",
        "Total time: 0.00114762 s\n",
        "File: <ipython-input-19-5834106fceca>\n",
        "Function: wrapper at line 9\n",
        "\n",
        "Line #      Hits         Time  Per Hit   % Time  Line Contents\n",
        "==============================================================\n",
        "     9                                           def wrapper(arg):\n",
        "    10         1     198233.0 198233.0     17.3      list_of_numbers = [i for i in range(arg)]\n",
        "    11         1     949104.0 949104.0     82.7      lsi = function_to_profile(list_of_numbers[-1])\n",
        "    12         1        284.0    284.0      0.0      return lsi"
      ],
      "metadata": {
        "id": "cTkAE-Q2JPYW"
      }
    },
    {
      "cell_type": "code",
      "source": [
        "# Timer unit: 1e-09 s\n",
        "\n",
        "# Total time: 0.00114762 s\n",
        "# File: <ipython-input-19-5834106fceca>\n",
        "# Function: wrapper at line 9\n",
        "\n",
        "# Line #      Hits         Time  Per Hit   % Time  Line Contents\n",
        "# ==============================================================\n",
        "#      9                                              def wrapper(arg):\n",
        "#     10         1     198233.0 198233.0     17.3      list_of_numbers = [i for i in range(arg)]\n",
        "#     11         1     949104.0 949104.0     82.7      lsi = function_to_profile(list_of_numbers[-1])\n",
        "#     12         1        284.0    284.0      0.0      return lsi"
      ],
      "metadata": {
        "id": "Fl-y9IVtJwvP"
      },
      "execution_count": null,
      "outputs": []
    },
    {
      "cell_type": "code",
      "source": [
        "%lprun -f function_to_profile wrapper(9000)"
      ],
      "metadata": {
        "id": "2_lxvAqDI6c9"
      },
      "execution_count": 28,
      "outputs": []
    },
    {
      "cell_type": "markdown",
      "source": [
        "Timer unit: 1e-09 s\n",
        "\n",
        "Total time: 0.0143137 s\n",
        "File: <ipython-input-19-5834106fceca>\n",
        "Function: function_to_profile at line 1\n",
        "\n",
        "Line #      Hits         Time  Per Hit   % Time  Line Contents\n",
        "==============================================================\n",
        "     1                                           def function_to_profile(args):\n",
        "     2         1       2399.0   2399.0      0.0      some = args\n",
        "     3         1    2342999.0 2342999.0     16.4      list_of_numbers = [i for i in range(some)]\n",
        "     4      8999    3299506.0    366.7     23.1      for i in range(some):\n",
        "     5      8999    2763314.0    307.1     19.3          pass\n",
        "     6         1    5905109.0 5905109.0     41.3      numbers = [i**2 for i in list_of_numbers]\n",
        "     7         1        421.0    421.0      0.0      return list_of_numbers"
      ],
      "metadata": {
        "id": "2qYfnK7pJTSm"
      }
    },
    {
      "cell_type": "code",
      "source": [
        "# Timer unit: 1e-09 s\n",
        "\n",
        "# Total time: 0.0143137 s\n",
        "# File: <ipython-input-19-5834106fceca>\n",
        "# Function: function_to_profile at line 1\n",
        "\n",
        "# Line #      Hits         Time  Per Hit   % Time  Line Contents\n",
        "# ==============================================================\n",
        "#      1                                              def function_to_profile(args):\n",
        "#      2         1       2399.0   2399.0      0.0      some = args\n",
        "#      3         1    2342999.0 2342999.0     16.4      list_of_numbers = [i for i in range(some)]\n",
        "#      4      8999    3299506.0    366.7     23.1      for i in range(some):\n",
        "#      5      8999    2763314.0    307.1     19.3          pass\n",
        "#      6         1    5905109.0 5905109.0     41.3      numbers = [i**2 for i in list_of_numbers]\n",
        "#      7         1        421.0    421.0      0.0      return list_of_numbers"
      ],
      "metadata": {
        "id": "cpmGR67lJ7u4"
      },
      "execution_count": null,
      "outputs": []
    },
    {
      "cell_type": "code",
      "source": [
        "%lprun -f wrapper -f function_to_profile wrapper(90000)"
      ],
      "metadata": {
        "id": "JvKhd-FbFfrC"
      },
      "execution_count": 29,
      "outputs": []
    },
    {
      "cell_type": "markdown",
      "source": [
        "Timer unit: 1e-09 s\n",
        "\n",
        "Total time: 0.100727 s\n",
        "File: <ipython-input-19-5834106fceca>\n",
        "Function: function_to_profile at line 1\n",
        "\n",
        "Line #      Hits         Time  Per Hit   % Time  Line Contents\n",
        "==============================================================\n",
        "     1                                           def function_to_profile(args):\n",
        "     2         1       1130.0   1130.0      0.0      some = args\n",
        "     3         1   21401972.0 21401972.0     21.2      list_of_numbers = [i for i in range(some)]\n",
        "     4     89999   22480783.0    249.8     22.3      for i in range(some):\n",
        "     5     89999   19107214.0    212.3     19.0          pass\n",
        "     6         1   37735690.0 37735690.0     37.5      numbers = [i**2 for i in list_of_numbers]\n",
        "     7         1        217.0    217.0      0.0      return list_of_numbers\n",
        "\n",
        "Total time: 0.190862 s\n",
        "File: <ipython-input-19-5834106fceca>\n",
        "Function: wrapper at line 9\n",
        "\n",
        "Line #      Hits         Time  Per Hit   % Time  Line Contents\n",
        "==============================================================\n",
        "     9                                           def wrapper(arg):\n",
        "    10         1   22897231.0 22897231.0     12.0      list_of_numbers = [i for i in range(arg)]\n",
        "    11         1  167964630.0 167964630.0     88.0      lsi = function_to_profile(list_of_numbers[-1])\n",
        "    12         1        457.0    457.0      0.0      return lsi"
      ],
      "metadata": {
        "id": "AkB6A4XAJUEZ"
      }
    },
    {
      "cell_type": "code",
      "source": [
        "# Timer unit: 1e-09 s\n",
        "\n",
        "# Total time: 0.100727 s\n",
        "# File: <ipython-input-19-5834106fceca>\n",
        "# Function: function_to_profile at line 1\n",
        "\n",
        "# Line #      Hits         Time  Per Hit   % Time  Line Contents\n",
        "# ==============================================================\n",
        "#      1                                               def function_to_profile(args):\n",
        "#      2         1       1130.0   1130.0      0.0      some = args\n",
        "#      3         1   21401972.0 21401972.0     21.2      list_of_numbers = [i for i in range(some)]\n",
        "#      4     89999   22480783.0    249.8     22.3      for i in range(some):\n",
        "#      5     89999   19107214.0    212.3     19.0          pass\n",
        "#      6         1   37735690.0 37735690.0     37.5      numbers = [i**2 for i in list_of_numbers]\n",
        "#      7         1        217.0    217.0      0.0      return list_of_numbers\n",
        "\n",
        "# Total time: 0.190862 s\n",
        "# File: <ipython-input-19-5834106fceca>\n",
        "# Function: wrapper at line 9\n",
        "\n",
        "# Line #      Hits         Time  Per Hit   % Time  Line Contents\n",
        "# ==============================================================\n",
        "#      9                                              def wrapper(arg):\n",
        "#     10         1   22897231.0 22897231.0     12.0      list_of_numbers = [i for i in range(arg)]\n",
        "#     11         1  167964630.0 167964630.0     88.0      lsi = function_to_profile(list_of_numbers[-1])\n",
        "#     12         1        457.0    457.0      0.0      return lsi"
      ],
      "metadata": {
        "id": "ce95DikwJ9Rb"
      },
      "execution_count": null,
      "outputs": []
    }
  ]
}