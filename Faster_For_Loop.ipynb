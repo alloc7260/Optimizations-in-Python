{
  "nbformat": 4,
  "nbformat_minor": 0,
  "metadata": {
    "colab": {
      "provenance": []
    },
    "kernelspec": {
      "name": "python3",
      "display_name": "Python 3"
    },
    "language_info": {
      "name": "python"
    },
    "gpuClass": "standard"
  },
  "cells": [
    {
      "cell_type": "markdown",
      "source": [
        "# Regular Looping"
      ],
      "metadata": {
        "id": "-L3NlJGMuK66"
      }
    },
    {
      "cell_type": "markdown",
      "source": [
        "## Regular For Loop\n",
        "\n",
        "#### Pros :\n",
        "* Execute in Sequence\n",
        "* Support mult-iliner\n",
        "\n",
        "#### Cons :\n",
        "* Time Consuming"
      ],
      "metadata": {
        "id": "D7bZJBUfsrNK"
      }
    },
    {
      "cell_type": "code",
      "source": [
        "for i in range(20):\n",
        "    #code\n",
        "    print(i)"
      ],
      "metadata": {
        "colab": {
          "base_uri": "https://localhost:8080/"
        },
        "id": "fshBpIMOr7Ec",
        "outputId": "0d197dde-c41a-4e58-bb89-4ecd2a83e1a8"
      },
      "execution_count": 2,
      "outputs": [
        {
          "output_type": "stream",
          "name": "stdout",
          "text": [
            "0\n",
            "1\n",
            "2\n",
            "3\n",
            "4\n",
            "5\n",
            "6\n",
            "7\n",
            "8\n",
            "9\n",
            "10\n",
            "11\n",
            "12\n",
            "13\n",
            "14\n",
            "15\n",
            "16\n",
            "17\n",
            "18\n",
            "19\n"
          ]
        }
      ]
    },
    {
      "cell_type": "markdown",
      "source": [
        "## List Comprehension\n",
        "\n",
        "#### Pros :\n",
        "* Slightly Time Efficient\n",
        "* Execute in Sequence\n",
        "\n",
        "\n",
        "#### Cons :\n",
        "* only one-liners\n",
        "* Support mult-iliner with function execution"
      ],
      "metadata": {
        "id": "lO1n8D1XymYq"
      }
    },
    {
      "cell_type": "code",
      "source": [
        "[print(i) for i in range(20)];"
      ],
      "metadata": {
        "colab": {
          "base_uri": "https://localhost:8080/"
        },
        "outputId": "60a5689b-ed14-430c-fa4a-ecd9500f445e",
        "id": "vW9UvALPymYq"
      },
      "execution_count": 23,
      "outputs": [
        {
          "output_type": "stream",
          "name": "stdout",
          "text": [
            "0\n",
            "1\n",
            "2\n",
            "3\n",
            "4\n",
            "5\n",
            "6\n",
            "7\n",
            "8\n",
            "9\n",
            "10\n",
            "11\n",
            "12\n",
            "13\n",
            "14\n",
            "15\n",
            "16\n",
            "17\n",
            "18\n",
            "19\n"
          ]
        }
      ]
    },
    {
      "cell_type": "markdown",
      "source": [
        "## Multiprocessed For Loop\n",
        "\n",
        "#### Pros :\n",
        "* Time Efficient\n",
        "* Support mult-iliner\n",
        "\n",
        "#### Cons :\n",
        "* Execute in Random Sequence"
      ],
      "metadata": {
        "id": "5c1ngsnPtHmZ"
      }
    },
    {
      "cell_type": "code",
      "execution_count": 6,
      "metadata": {
        "colab": {
          "base_uri": "https://localhost:8080/"
        },
        "id": "7G4CYO53rYxQ",
        "outputId": "c2e0fb83-2c9e-4979-8be1-94da03307499"
      },
      "outputs": [
        {
          "output_type": "stream",
          "name": "stdout",
          "text": [
            "0961011\n",
            "213\n",
            "15128714154\n",
            "\n",
            "\n",
            "\n",
            "3\n",
            "\n",
            "\n",
            "\n",
            "\n",
            "1816\n",
            "\n",
            "1719\n",
            "\n",
            "\n",
            "\n",
            "\n",
            "\n",
            "\n"
          ]
        }
      ],
      "source": [
        "from multiprocessing import Pool\n",
        "\n",
        "def fuc(i):\n",
        "    # code\n",
        "    print(i)\n",
        "\n",
        "npools = 20 # define number of pools as per machine configuration (higher the better)\n",
        "\n",
        "with Pool(npools) as pp:\n",
        "  pp.map(fuc,range(20))"
      ]
    },
    {
      "cell_type": "markdown",
      "source": [
        "# Extract or Store Value"
      ],
      "metadata": {
        "id": "TXZydCabuFWZ"
      }
    },
    {
      "cell_type": "markdown",
      "source": [
        "## Regular For Loop\n",
        "\n",
        "#### Pros :\n",
        "* Execute in Sequence\n",
        "* Support mult-iliner\n",
        "\n",
        "#### Cons :\n",
        "* Time Consuming"
      ],
      "metadata": {
        "id": "QwPGzNaluY08"
      }
    },
    {
      "cell_type": "code",
      "source": [
        "%%time\n",
        "output = []\n",
        "for i in range(20):\n",
        "    #code\n",
        "    output.append(i)\n",
        "output"
      ],
      "metadata": {
        "colab": {
          "base_uri": "https://localhost:8080/"
        },
        "outputId": "b56fe2d6-f69b-4df6-87a2-52a78fdc6d69",
        "id": "7C3d1ejtuY08"
      },
      "execution_count": 30,
      "outputs": [
        {
          "output_type": "stream",
          "name": "stdout",
          "text": [
            "CPU times: user 20 µs, sys: 3 µs, total: 23 µs\n",
            "Wall time: 26.7 µs\n"
          ]
        },
        {
          "output_type": "execute_result",
          "data": {
            "text/plain": [
              "[0, 1, 2, 3, 4, 5, 6, 7, 8, 9, 10, 11, 12, 13, 14, 15, 16, 17, 18, 19]"
            ]
          },
          "metadata": {},
          "execution_count": 30
        }
      ]
    },
    {
      "cell_type": "markdown",
      "source": [
        "## List Comprehension\n",
        "\n",
        "#### Pros :\n",
        "* Slightly Time Efficient\n",
        "* Execute in Sequence\n",
        "\n",
        "\n",
        "#### Cons :\n",
        "* only one-liners\n",
        "* Support mult-iliner with function execution"
      ],
      "metadata": {
        "id": "A4qszTxKy4s9"
      }
    },
    {
      "cell_type": "code",
      "source": [
        "%%time\n",
        "output = [i for i in range(20)]\n",
        "output"
      ],
      "metadata": {
        "colab": {
          "base_uri": "https://localhost:8080/"
        },
        "id": "34LeDAuGuCSX",
        "outputId": "42da0907-c6ff-4046-bf0c-9ef6d856c8d1"
      },
      "execution_count": 32,
      "outputs": [
        {
          "output_type": "stream",
          "name": "stdout",
          "text": [
            "CPU times: user 15 µs, sys: 2 µs, total: 17 µs\n",
            "Wall time: 19.8 µs\n"
          ]
        },
        {
          "output_type": "execute_result",
          "data": {
            "text/plain": [
              "[0, 1, 2, 3, 4, 5, 6, 7, 8, 9, 10, 11, 12, 13, 14, 15, 16, 17, 18, 19]"
            ]
          },
          "metadata": {},
          "execution_count": 32
        }
      ]
    },
    {
      "cell_type": "markdown",
      "source": [
        "## Multiprocessed For Loop\n",
        "\n",
        "#### Pros :\n",
        "* Time Efficient\n",
        "* Support mult-iliner\n",
        "\n",
        "#### Cons :\n",
        "* Execute in Random Sequence"
      ],
      "metadata": {
        "id": "UTpyVjCtuY08"
      }
    },
    {
      "cell_type": "code",
      "execution_count": 13,
      "metadata": {
        "colab": {
          "base_uri": "https://localhost:8080/"
        },
        "outputId": "25eda905-b64c-4fed-cf77-de3f866392d5",
        "id": "x0CYqBNSuY09"
      },
      "outputs": [
        {
          "output_type": "stream",
          "name": "stdout",
          "text": [
            "CPU times: user 50.6 ms, sys: 151 ms, total: 202 ms\n",
            "Wall time: 282 ms\n"
          ]
        },
        {
          "output_type": "execute_result",
          "data": {
            "text/plain": [
              "[0, 1, 2, 3, 4, 5, 6, 7, 8, 9, 10, 11, 12, 13, 14, 15, 16, 17, 18, 19]"
            ]
          },
          "metadata": {},
          "execution_count": 13
        }
      ],
      "source": [
        "%%time\n",
        "from multiprocessing import Pool\n",
        "\n",
        "def fuc(i):\n",
        "    # code\n",
        "    return i\n",
        "\n",
        "npools = 20 # define number of pools as per machine configuration (higher the better)\n",
        "\n",
        "with Pool(npools) as pp:\n",
        "  output = pp.map(fuc,range(20))\n",
        "\n",
        "output"
      ]
    },
    {
      "cell_type": "markdown",
      "source": [
        "for processes that take longer time and can be execute in parallel are good with multiprocessing"
      ],
      "metadata": {
        "id": "pTDRly3Qwd9P"
      }
    },
    {
      "cell_type": "markdown",
      "source": [
        "⚠ Disclaimer : applying multiprocessing in every loop may lead to inefficiency in program"
      ],
      "metadata": {
        "id": "9HdPcejWxBiZ"
      }
    }
  ]
}